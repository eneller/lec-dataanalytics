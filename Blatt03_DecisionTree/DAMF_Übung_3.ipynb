{
 "cells": [
  {
   "cell_type": "code",
   "execution_count": null,
   "metadata": {
    "collapsed": true,
    "pycharm": {
     "name": "#%%\n"
    }
   },
   "outputs": [],
   "source": [
    "from sklearn.tree import DecisionTreeClassifier, plot_tree\n",
    "from sklearn.model_selection import train_test_split\n",
    "from sklearn.preprocessing import OrdinalEncoder\n",
    "from sklearn.metrics import accuracy_score, recall_score, \\\n",
    "    precision_score, f1_score\n",
    "import pandas as pd\n",
    "import matplotlib.pyplot as plt\n",
    "import numpy as np"
   ]
  },
  {
   "cell_type": "code",
   "execution_count": null,
   "outputs": [],
   "source": [
    "dataset = pd.read_csv('')\n",
    "dataset.head()"
   ],
   "metadata": {
    "collapsed": false,
    "pycharm": {
     "name": "#%%\n"
    }
   }
  },
  {
   "cell_type": "code",
   "execution_count": null,
   "outputs": [],
   "source": [
    "#Löschen der für die Datenanalyse unnötigen Spalten.\n",
    "#Tragen Sie dazu die Spaltennamen mit Anführungszeichen getrennet durch Komma zwischen\n",
    "#die rechteckigen Klammern ein (z.B 'Alter', 'Gehalt') um die Spalten Alter und Gehalt zu löschen\n",
    "dataset = dataset.drop(columns=[])\n",
    "dataset.head()\n",
    "\n",
    "\n",
    "'''\n",
    "Mit dem Encoder können Sie alle Spalten, die nicht-numerische Daten enhält,\n",
    "in numerische Daten umwandeln. Wären dies beispielsweise die Spalten Dauer\n",
    "und Gehalt, müssten Sie anstelle des Platzhalters folgenden Text einfügen (inkl. Anführungszeichen):\n",
    "'Dauer', 'Gehalt'. Machen Sie das zunächst für die Spalten mit nur zwei möglichen Werten.\n",
    "'''\n",
    "enc = OrdinalEncoder()\n",
    "enc.fit(dataset[['Platzhalter']])\n",
    "dataset[['Platzhalter']] = \\\n",
    "    enc.transform(dataset[['Platzhalter']])\n",
    "\n",
    "'''\n",
    "Für Spalten mit mehr als drei Werten, die man anordnen kann (z.B. die Dauer des Vertrag,\n",
    "wo mathematisch gesehen gilt, dass lang > mittel > kurz), muss man dem Encoder, die\n",
    "Reihenfolge manuell übergeben, da er ansonsten die Werte alphabetisch anordnet\n",
    "\n",
    "'''\n",
    "enc2=OrdinalEncoder(categories=[['kurz','durchschnittlich','lang'],['gering','mittel','hoch','sehr hoch']])\n",
    "enc2.fit(dataset[['Dauer','Transaktionsvolumen']])\n",
    "dataset[['Dauer','Transaktionsvolumen']]=enc2.transform(dataset[['Dauer','Transaktionsvolumen']])\n",
    "\n",
    "dataset.head()"
   ],
   "metadata": {
    "collapsed": false,
    "pycharm": {
     "name": "#%%\n"
    }
   }
  },
  {
   "cell_type": "code",
   "execution_count": null,
   "outputs": [],
   "source": [
    "#Splitten der Daten in Trainings- und Testdaten. Tragen Sie dazu den Namen der Spalte, die der\n",
    "#Entscheidungsbaum vorhersagen soll anstelle des Platzhalters ein.\n",
    "#Fügen Sie zusätzlich in der letzten Zeile den Wert der test size ein, sodass 20% der Daten als\n",
    "#Trainingsdaten verwenet werden\n",
    "\n",
    "y = dataset['Wechsel']\n",
    "X = dataset.drop(columns='Wechsel')\n",
    "X_train, X_test, y_train, y_test = \\\n",
    "    train_test_split(X, y,test_size= , random_state=1)"
   ],
   "metadata": {
    "collapsed": false,
    "pycharm": {
     "name": "#%%\n"
    }
   }
  },
  {
   "cell_type": "code",
   "execution_count": null,
   "outputs": [],
   "source": [
    "features = X.columns\n",
    "class_names = ['Wechsel', 'kein Wechsel']\n",
    "clf = DecisionTreeClassifier(criterion='entropy',random_state=1, max_depth=2)\n",
    "clf.fit(X=X_train, y=y_train)\n",
    "plot_tree(clf, feature_names=features, class_names=class_names)\n",
    "#plt.savefig('./out.pdf')"
   ],
   "metadata": {
    "collapsed": false,
    "pycharm": {
     "name": "#%%\n"
    }
   }
  },
  {
   "cell_type": "code",
   "execution_count": null,
   "outputs": [],
   "source": [
    "#plotten der accuracy für verschiedene Baumtiefen\n",
    "acc_arr = np.zeros(10)\n",
    "x = range(1, 11)\n",
    "for i in range(1, 11):\n",
    "    clf = DecisionTreeClassifier(criterion='entropy',random_state=1, max_depth=i)\n",
    "    clf.fit(X=X_train, y=y_train)\n",
    "    acc_arr[i-1] = clf.score(X=X_test, y=y_test)\n",
    "#clf.score liefert dasselbe Ergebnis wie accuracy_score\n",
    "plt.plot(x, acc_arr)\n",
    "print(acc_arr)\n",
    "plt.title('accuracy für verschiedene Baumtiefen')\n",
    "plt.xlabel('Baumtiefe')\n",
    "plt.ylabel('accuracy')\n",
    "plt.xticks(x)"
   ],
   "metadata": {
    "collapsed": false,
    "pycharm": {
     "name": "#%%\n"
    }
   }
  },
  {
   "cell_type": "code",
   "execution_count": null,
   "outputs": [],
   "source": [
    "clf = DecisionTreeClassifier(criterion='entropy',random_state=1, max_depth=)\n",
    "clf.fit(X=X_train, y=y_train)\n",
    "y_pred = clf.predict(X = X_test)"
   ],
   "metadata": {
    "collapsed": false,
    "pycharm": {
     "name": "#%%\n"
    }
   }
  },
  {
   "cell_type": "code",
   "execution_count": null,
   "outputs": [],
   "source": [
    "acc = accuracy_score(y_true=y_test, y_pred=y_pred)\n",
    "rec_wech = recall_score(y_true=y_test, y_pred=y_pred, pos_label='Wechsel')\n",
    "prec_wech = precision_score(y_true=y_test, y_pred=y_pred, pos_label='Wechsel')\n",
    "f1_wech = f1_score(y_true=y_test, y_pred=y_pred, pos_label='Wechsel')\n",
    "rec_nowech = recall_score(y_true=y_test, y_pred=y_pred, pos_label='kein Wechsel')\n",
    "prec_nowech = precision_score(y_true=y_test, y_pred=y_pred, pos_label='kein Wechsel')\n",
    "f1_nowech = f1_score(y_true=y_test, y_pred=y_pred, pos_label='kein Wechsel')"
   ],
   "metadata": {
    "collapsed": false,
    "pycharm": {
     "name": "#%%\n"
    }
   }
  },
  {
   "cell_type": "code",
   "execution_count": null,
   "outputs": [],
   "source": [
    "print('Accuracy : ', acc)\n",
    "print('Recall der Klasse \\'Wechsel\\' : ', rec_wech)\n",
    "print('Precision der Klasse \\'Wechsel\\' : ', prec_wech)\n",
    "print('F_1 Score der Klasse \\'Wechsel\\' : ', f1_wech)\n",
    "print('Recall der Klasse \\'kein Wechsel\\' : ', rec_nowech)\n",
    "print('Precision der Klasse \\'kein Wechsel\\' : ', prec_nowech)\n",
    "print('F_1 Score der Klasse \\'kein Wechsel\\' : ', f1_nowech)"
   ],
   "metadata": {
    "collapsed": false,
    "pycharm": {
     "name": "#%%\n"
    }
   }
  }
 ],
 "metadata": {
  "kernelspec": {
   "display_name": "Python 3",
   "language": "python",
   "name": "python3"
  },
  "language_info": {
   "codemirror_mode": {
    "name": "ipython",
    "version": 2
   },
   "file_extension": ".py",
   "mimetype": "text/x-python",
   "name": "python",
   "nbconvert_exporter": "python",
   "pygments_lexer": "ipython2",
   "version": "2.7.6"
  }
 },
 "nbformat": 4,
 "nbformat_minor": 0
}