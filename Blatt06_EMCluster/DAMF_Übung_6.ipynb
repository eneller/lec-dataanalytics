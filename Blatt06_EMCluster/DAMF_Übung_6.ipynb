{
 "cells": [
  {
   "cell_type": "code",
   "execution_count": null,
   "metadata": {
    "collapsed": true,
    "pycharm": {
     "name": "#%%\n"
    }
   },
   "outputs": [],
   "source": [
    "from sklearn.mixture import GaussianMixture\n",
    "import numpy as np\n",
    "import matplotlib.pyplot as plt\n",
    "import pandas as pd\n",
    "from sklearn.cluster import KMeans"
   ]
  },
  {
   "cell_type": "code",
   "execution_count": null,
   "outputs": [],
   "source": [
    "# a) Laden des Datensatzes\n",
    "X = np.load('Dateipfad')\n",
    "print(X)"
   ],
   "metadata": {
    "collapsed": false,
    "pycharm": {
     "name": "#%%\n"
    }
   }
  },
  {
   "cell_type": "code",
   "execution_count": null,
   "outputs": [],
   "source": [
    "# b.1) Plotten des Datensatzes X mit Achsen-Linien\n",
    "plt.plot()\n",
    "plt.axis('on')\n",
    "plt.show()\n",
    "\n",
    "# b.2) Plotten des Datensatzes X ohne Achsen-Linien\n",
    "plt.plot()\n",
    "plt.axis('off')\n",
    "plt.show()"
   ],
   "metadata": {
    "collapsed": false,
    "pycharm": {
     "name": "#%%\n"
    }
   }
  },
  {
   "cell_type": "code",
   "execution_count": null,
   "outputs": [],
   "source": [
    "# c) Trainieren des GaussianMixture Verfahrens\n",
    "gmm = GaussianMixture()\n",
    "gmm.fit(X)"
   ],
   "metadata": {
    "collapsed": false,
    "pycharm": {
     "name": "#%%\n"
    }
   }
  },
  {
   "cell_type": "code",
   "execution_count": null,
   "outputs": [],
   "source": [
    "# d) Clustervorhersage für die Trainingsdaten,Ausgabe der vorhergesagten Wahrscheinlichkeiten für jede Instanz,Means,\n",
    "# weights, covariances der Clusterzentren\n",
    "cluster =\n",
    "probs =\n",
    "means =\n",
    "weights =\n",
    "covariances =\n",
    "\n",
    "print(cluster[0:5])\n",
    "print(probs[0:5])\n",
    "print(means[0:5])\n",
    "print(weights[0:5])\n",
    "print(covariances[0:5])"
   ],
   "metadata": {
    "collapsed": false,
    "pycharm": {
     "name": "#%%\n"
    }
   }
  },
  {
   "cell_type": "code",
   "execution_count": null,
   "outputs": [],
   "source": [
    "# e) Plotten des Arrays X mit Cluterzuordnung\n",
    "plt.scatter()\n",
    "plt.scatter()\n",
    "plt.show()"
   ],
   "metadata": {
    "collapsed": false,
    "pycharm": {
     "name": "#%%\n"
    }
   }
  },
  {
   "cell_type": "code",
   "execution_count": null,
   "outputs": [],
   "source": [
    "# f)\n",
    "# Trainieren des KMeans mit den in Teilaufgabe d) erarbeiteten k Clusterzentren\n",
    "kmeans =KMeans( random_state=1)\n",
    "kmeans=kmeans.fit(X)\n",
    "y_pred=kmeans.predict(X)\n",
    "# plotten\n",
    "plt.scatter()\n",
    "plt.scatter()\n",
    "plt.show()\n"
   ],
   "metadata": {
    "collapsed": false,
    "pycharm": {
     "name": "#%%\n"
    }
   }
  }
 ],
 "metadata": {
  "kernelspec": {
   "display_name": "Python 3",
   "language": "python",
   "name": "python3"
  },
  "language_info": {
   "codemirror_mode": {
    "name": "ipython",
    "version": 2
   },
   "file_extension": ".py",
   "mimetype": "text/x-python",
   "name": "python",
   "nbconvert_exporter": "python",
   "pygments_lexer": "ipython2",
   "version": "2.7.6"
  }
 },
 "nbformat": 4,
 "nbformat_minor": 0
}