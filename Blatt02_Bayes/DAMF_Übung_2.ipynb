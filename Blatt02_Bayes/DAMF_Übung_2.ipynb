{
 "cells": [
  {
   "cell_type": "code",
   "execution_count": 1,
   "metadata": {
    "pycharm": {
     "name": "#%%\n"
    }
   },
   "outputs": [],
   "source": [
    "import pandas as pd\n",
    "import  numpy as np\n",
    "#importieren Sie hier aus dem sklearn.model_selection Paket\n",
    "#die Funktion train_test_split\n",
    "from sklearn.model_selection import train_test_split\n",
    "from sklearn.naive_bayes import CategoricalNB\n",
    "from sklearn.metrics import accuracy_score, precision_score, \\\n",
    "    recall_score, confusion_matrix, f1_score\n",
    "\n"
   ]
  },
  {
   "cell_type": "code",
   "execution_count": 2,
   "metadata": {
    "pycharm": {
     "name": "#%%\n"
    }
   },
   "outputs": [
    {
     "name": "stdout",
     "output_type": "stream",
     "text": [
      "Der Datensatz enthält Daten zu 18383 Tagen.\n"
     ]
    },
    {
     "data": {
      "text/html": [
       "<div>\n",
       "<style scoped>\n",
       "    .dataframe tbody tr th:only-of-type {\n",
       "        vertical-align: middle;\n",
       "    }\n",
       "\n",
       "    .dataframe tbody tr th {\n",
       "        vertical-align: top;\n",
       "    }\n",
       "\n",
       "    .dataframe thead th {\n",
       "        text-align: right;\n",
       "    }\n",
       "</style>\n",
       "<table border=\"1\" class=\"dataframe\">\n",
       "  <thead>\n",
       "    <tr style=\"text-align: right;\">\n",
       "      <th></th>\n",
       "      <th>RainTomorrow</th>\n",
       "      <th>MinTemp</th>\n",
       "      <th>MaxTemp</th>\n",
       "      <th>Rainfall</th>\n",
       "      <th>Evaporation</th>\n",
       "      <th>Sunshine</th>\n",
       "      <th>WindGustSpeed</th>\n",
       "      <th>Humidity</th>\n",
       "      <th>Pressure</th>\n",
       "    </tr>\n",
       "  </thead>\n",
       "  <tbody>\n",
       "    <tr>\n",
       "      <th>0</th>\n",
       "      <td>No</td>\n",
       "      <td>4</td>\n",
       "      <td>4</td>\n",
       "      <td>2</td>\n",
       "      <td>4</td>\n",
       "      <td>3</td>\n",
       "      <td>4</td>\n",
       "      <td>0</td>\n",
       "      <td>0</td>\n",
       "    </tr>\n",
       "    <tr>\n",
       "      <th>1</th>\n",
       "      <td>Yes</td>\n",
       "      <td>4</td>\n",
       "      <td>4</td>\n",
       "      <td>2</td>\n",
       "      <td>4</td>\n",
       "      <td>3</td>\n",
       "      <td>4</td>\n",
       "      <td>4</td>\n",
       "      <td>0</td>\n",
       "    </tr>\n",
       "    <tr>\n",
       "      <th>2</th>\n",
       "      <td>No</td>\n",
       "      <td>4</td>\n",
       "      <td>4</td>\n",
       "      <td>2</td>\n",
       "      <td>4</td>\n",
       "      <td>4</td>\n",
       "      <td>3</td>\n",
       "      <td>0</td>\n",
       "      <td>0</td>\n",
       "    </tr>\n",
       "    <tr>\n",
       "      <th>3</th>\n",
       "      <td>Yes</td>\n",
       "      <td>4</td>\n",
       "      <td>4</td>\n",
       "      <td>1</td>\n",
       "      <td>4</td>\n",
       "      <td>4</td>\n",
       "      <td>4</td>\n",
       "      <td>0</td>\n",
       "      <td>0</td>\n",
       "    </tr>\n",
       "    <tr>\n",
       "      <th>4</th>\n",
       "      <td>No</td>\n",
       "      <td>4</td>\n",
       "      <td>4</td>\n",
       "      <td>1</td>\n",
       "      <td>4</td>\n",
       "      <td>4</td>\n",
       "      <td>2</td>\n",
       "      <td>0</td>\n",
       "      <td>0</td>\n",
       "    </tr>\n",
       "  </tbody>\n",
       "</table>\n",
       "</div>"
      ],
      "text/plain": [
       "  RainTomorrow  MinTemp  MaxTemp  Rainfall  Evaporation  Sunshine   \n",
       "0           No        4        4         2            4         3  \\\n",
       "1          Yes        4        4         2            4         3   \n",
       "2           No        4        4         2            4         4   \n",
       "3          Yes        4        4         1            4         4   \n",
       "4           No        4        4         1            4         4   \n",
       "\n",
       "   WindGustSpeed  Humidity  Pressure  \n",
       "0              4         0         0  \n",
       "1              4         4         0  \n",
       "2              3         0         0  \n",
       "3              4         0         0  \n",
       "4              2         0         0  "
      ]
     },
     "execution_count": 2,
     "metadata": {},
     "output_type": "execute_result"
    }
   ],
   "source": [
    "#CSV import und Transformation zu data frame\n",
    "dataset = pd.read_csv('./weather.csv') #hier Pfad angeben\n",
    "print(\"Der Datensatz enthält Daten zu \" + str(len(dataset)) + \" Tagen.\")\n",
    "dataset.head() #Ausgabe der obersten Zeilen des Datensatzes\n",
    "\n",
    "#Der nächste Block ist ein Textblock mit Beschreibung des Datensatzes."
   ]
  },
  {
   "cell_type": "markdown",
   "metadata": {
    "pycharm": {
     "name": "#%% md\n"
    }
   },
   "source": [
    "\n",
    "Der Datensatz enhält 9 Spalten: <br>\n",
    "<b>RainTomorrow</b>: Aussage ob es am nächsten Tag geregnet hat <br>\n",
    "Die anderen 8 dienen zu Vorhersage und sind jeweils unterteilt in 5 (bzw. 3) Kategorien, wie unten beschrieben<br>\n",
    "<b>MinTemp</b> - minimale Tagestemperatur: 1: <0°C, 2: 0°C <= x < 8°C 3: 8°C <= x < 16°C 4: 16°C<= x < 24°C 5: >=24°C <br>\n",
    "<b>MaxTemp</b> - maximale Tagestempertur: selbe Skala wie oben <br>\n",
    "<b>RainFall</b> - Regenmenge: 1: kein Regen 2: Regen 3: starker Regenfall<br>\n",
    "<b>Evaporation</b> - Verdunstungsmenge: 1: keine Verdunstung 2: wenig Verdunstung 3: normale Verdunstung 4: hohe Verdunstung 5: sehr hohe Verdunstung <br>\n",
    "<b>Sunshine</b> - Sonnenstunden: 1: 0-2h 2: 2-4h 3:4-6h 4: 6-8h 5: >8h <br>\n",
    "<b>WindGustSpeed</b> - höchste Windgeschwindigkeit: 1: 0-15km/h 2: 15-30km/h 3: 30-45km/h 4: 45-60km/h 5: >=60km/h <br>\n",
    "<b>Humidity</b> Luftfeuchtigkeit - 1: 0-20% 2: 20-40% 3: 40-60% 4: 60-80% 5: 80-100% <br>\n",
    "<b>Pressure</b> durchschnittlicher Luftdruck: 1: <900hPa 2: 900- 920hPa 3: 920-940hPa 4: 940-960hPa 5: >= 960hPa <br>\n"
   ]
  },
  {
   "cell_type": "code",
   "execution_count": 3,
   "metadata": {
    "pycharm": {
     "name": "#%%\n"
    }
   },
   "outputs": [],
   "source": [
    "#Ersetzen Sie MinTemp mit der Spalte, die tatsächlich vorhergesagt werden soll\n",
    "toPredict = \"RainTomorrow\"\n",
    "y = dataset[toPredict] #Auswahl der zu vorhersagenden Variable\n",
    "X = dataset.drop(columns=toPredict) #Attribute: Alle Spalten außer die Spalte, die vorhergesagt werden soll, diese wird mit .drop gelöscht"
   ]
  },
  {
   "cell_type": "code",
   "execution_count": 4,
   "metadata": {
    "pycharm": {
     "name": "#%%\n"
    }
   },
   "outputs": [],
   "source": [
    "#Train/Test Split: Aufteilung der Daten in Trainings- und Testdaten\n",
    "X_train, X_test, y_train, y_test = train_test_split(X, y, test_size=0.3, random_state=5)"
   ]
  },
  {
   "cell_type": "code",
   "execution_count": 5,
   "metadata": {
    "pycharm": {
     "name": "#%%\n"
    },
    "scrolled": true
   },
   "outputs": [
    {
     "data": {
      "text/html": [
       "<style>#sk-container-id-1 {color: black;background-color: white;}#sk-container-id-1 pre{padding: 0;}#sk-container-id-1 div.sk-toggleable {background-color: white;}#sk-container-id-1 label.sk-toggleable__label {cursor: pointer;display: block;width: 100%;margin-bottom: 0;padding: 0.3em;box-sizing: border-box;text-align: center;}#sk-container-id-1 label.sk-toggleable__label-arrow:before {content: \"▸\";float: left;margin-right: 0.25em;color: #696969;}#sk-container-id-1 label.sk-toggleable__label-arrow:hover:before {color: black;}#sk-container-id-1 div.sk-estimator:hover label.sk-toggleable__label-arrow:before {color: black;}#sk-container-id-1 div.sk-toggleable__content {max-height: 0;max-width: 0;overflow: hidden;text-align: left;background-color: #f0f8ff;}#sk-container-id-1 div.sk-toggleable__content pre {margin: 0.2em;color: black;border-radius: 0.25em;background-color: #f0f8ff;}#sk-container-id-1 input.sk-toggleable__control:checked~div.sk-toggleable__content {max-height: 200px;max-width: 100%;overflow: auto;}#sk-container-id-1 input.sk-toggleable__control:checked~label.sk-toggleable__label-arrow:before {content: \"▾\";}#sk-container-id-1 div.sk-estimator input.sk-toggleable__control:checked~label.sk-toggleable__label {background-color: #d4ebff;}#sk-container-id-1 div.sk-label input.sk-toggleable__control:checked~label.sk-toggleable__label {background-color: #d4ebff;}#sk-container-id-1 input.sk-hidden--visually {border: 0;clip: rect(1px 1px 1px 1px);clip: rect(1px, 1px, 1px, 1px);height: 1px;margin: -1px;overflow: hidden;padding: 0;position: absolute;width: 1px;}#sk-container-id-1 div.sk-estimator {font-family: monospace;background-color: #f0f8ff;border: 1px dotted black;border-radius: 0.25em;box-sizing: border-box;margin-bottom: 0.5em;}#sk-container-id-1 div.sk-estimator:hover {background-color: #d4ebff;}#sk-container-id-1 div.sk-parallel-item::after {content: \"\";width: 100%;border-bottom: 1px solid gray;flex-grow: 1;}#sk-container-id-1 div.sk-label:hover label.sk-toggleable__label {background-color: #d4ebff;}#sk-container-id-1 div.sk-serial::before {content: \"\";position: absolute;border-left: 1px solid gray;box-sizing: border-box;top: 0;bottom: 0;left: 50%;z-index: 0;}#sk-container-id-1 div.sk-serial {display: flex;flex-direction: column;align-items: center;background-color: white;padding-right: 0.2em;padding-left: 0.2em;position: relative;}#sk-container-id-1 div.sk-item {position: relative;z-index: 1;}#sk-container-id-1 div.sk-parallel {display: flex;align-items: stretch;justify-content: center;background-color: white;position: relative;}#sk-container-id-1 div.sk-item::before, #sk-container-id-1 div.sk-parallel-item::before {content: \"\";position: absolute;border-left: 1px solid gray;box-sizing: border-box;top: 0;bottom: 0;left: 50%;z-index: -1;}#sk-container-id-1 div.sk-parallel-item {display: flex;flex-direction: column;z-index: 1;position: relative;background-color: white;}#sk-container-id-1 div.sk-parallel-item:first-child::after {align-self: flex-end;width: 50%;}#sk-container-id-1 div.sk-parallel-item:last-child::after {align-self: flex-start;width: 50%;}#sk-container-id-1 div.sk-parallel-item:only-child::after {width: 0;}#sk-container-id-1 div.sk-dashed-wrapped {border: 1px dashed gray;margin: 0 0.4em 0.5em 0.4em;box-sizing: border-box;padding-bottom: 0.4em;background-color: white;}#sk-container-id-1 div.sk-label label {font-family: monospace;font-weight: bold;display: inline-block;line-height: 1.2em;}#sk-container-id-1 div.sk-label-container {text-align: center;}#sk-container-id-1 div.sk-container {/* jupyter's `normalize.less` sets `[hidden] { display: none; }` but bootstrap.min.css set `[hidden] { display: none !important; }` so we also need the `!important` here to be able to override the default hidden behavior on the sphinx rendered scikit-learn.org. See: https://github.com/scikit-learn/scikit-learn/issues/21755 */display: inline-block !important;position: relative;}#sk-container-id-1 div.sk-text-repr-fallback {display: none;}</style><div id=\"sk-container-id-1\" class=\"sk-top-container\"><div class=\"sk-text-repr-fallback\"><pre>CategoricalNB()</pre><b>In a Jupyter environment, please rerun this cell to show the HTML representation or trust the notebook. <br />On GitHub, the HTML representation is unable to render, please try loading this page with nbviewer.org.</b></div><div class=\"sk-container\" hidden><div class=\"sk-item\"><div class=\"sk-estimator sk-toggleable\"><input class=\"sk-toggleable__control sk-hidden--visually\" id=\"sk-estimator-id-1\" type=\"checkbox\" checked><label for=\"sk-estimator-id-1\" class=\"sk-toggleable__label sk-toggleable__label-arrow\">CategoricalNB</label><div class=\"sk-toggleable__content\"><pre>CategoricalNB()</pre></div></div></div></div></div>"
      ],
      "text/plain": [
       "CategoricalNB()"
      ]
     },
     "execution_count": 5,
     "metadata": {},
     "output_type": "execute_result"
    }
   ],
   "source": [
    "#Trainieren des Naive Bayes Klassifikationsmodells\n",
    "clf = CategoricalNB()\n",
    "clf.fit(X=X_train, y=y_train)"
   ]
  },
  {
   "cell_type": "code",
   "execution_count": 6,
   "metadata": {
    "pycharm": {
     "name": "#%%\n"
    }
   },
   "outputs": [
    {
     "name": "stdout",
     "output_type": "stream",
     "text": [
      "['No' 'Yes' 'Yes' 'Yes' 'Yes'] ['No' 'Yes' 'Yes' 'Yes' 'Yes']\n"
     ]
    }
   ],
   "source": [
    "#Vorhersage der Testdaten\n",
    "y_pred = clf.predict(X = X_test)\n",
    "print(np.array(y_test[:5]), y_pred[:5]) #Vergleich der ersten fünf Vorhersagen mit den tatsächlichen Werten"
   ]
  },
  {
   "cell_type": "code",
   "execution_count": 7,
   "metadata": {
    "pycharm": {
     "name": "#%%\n"
    }
   },
   "outputs": [],
   "source": [
    "#Berechnung der Kennzahlen zur Evaluation der Klassifikationsgüte\n",
    "acc = accuracy_score(y_true=y_test, y_pred=y_pred)\n",
    "rec_yes = recall_score(y_true=y_test, y_pred=y_pred, pos_label='Yes')\n",
    "prec_yes = precision_score(y_true=y_test, y_pred=y_pred, pos_label='Yes')\n",
    "f1_yes = f1_score(y_true=y_test, y_pred=y_pred, pos_label='Yes')\n",
    "rec_no = recall_score(y_true=y_test, y_pred=y_pred, pos_label='No')\n",
    "prec_no = precision_score(y_true=y_test, y_pred=y_pred, pos_label='No')\n",
    "f1_no = f1_score(y_true=y_test, y_pred=y_pred, pos_label='No')\n",
    "#Hier Berechnung der Kennzahlen für die Klasse 'No' (Kein Regen) einfügen"
   ]
  },
  {
   "cell_type": "code",
   "execution_count": 8,
   "metadata": {
    "pycharm": {
     "name": "#%%\n"
    }
   },
   "outputs": [
    {
     "name": "stdout",
     "output_type": "stream",
     "text": [
      "Accuracy :  0.7318223028105167\n",
      "Recall der Klasse 'Yes' :  0.5977011494252874\n",
      "Precision der Klasse 'Yes' :  0.6395721925133689\n",
      "F_1 Score der Klasse 'Yes' :  0.6179281839318005\n",
      "Recall der Klasse 'No' :  0.8081957882754696\n",
      "Precision der Klasse 'No' :  0.7791495198902606\n",
      "F_1 Score der Klasse 'No' :  0.7934069004050844\n"
     ]
    }
   ],
   "source": [
    "#Ausgabe der Kennzahlen (ggf. die Namen der Kennzahlen in Zeile 74-76 anpassen, falls sie oben anders bennant wurden)\n",
    "print('Accuracy : ', acc)\n",
    "print('Recall der Klasse \\'Yes\\' : ', rec_yes)\n",
    "print('Precision der Klasse \\'Yes\\' : ', prec_yes)\n",
    "print('F_1 Score der Klasse \\'Yes\\' : ', f1_yes)\n",
    "print('Recall der Klasse \\'No\\' : ', rec_no)\n",
    "print('Precision der Klasse \\'No\\' : ', prec_no)\n",
    "print('F_1 Score der Klasse \\'No\\' : ', f1_no)"
   ]
  }
 ],
 "metadata": {
  "kernelspec": {
   "display_name": "Python 3 (ipykernel)",
   "language": "python",
   "name": "python3"
  },
  "language_info": {
   "codemirror_mode": {
    "name": "ipython",
    "version": 3
   },
   "file_extension": ".py",
   "mimetype": "text/x-python",
   "name": "python",
   "nbconvert_exporter": "python",
   "pygments_lexer": "ipython3",
   "version": "3.11.3"
  }
 },
 "nbformat": 4,
 "nbformat_minor": 1
}
