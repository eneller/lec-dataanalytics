{
 "cells": [
  {
   "cell_type": "code",
   "execution_count": 1,
   "outputs": [],
   "source": [
    "from sklearn.mixture import GaussianMixture\n",
    "import numpy as np\n",
    "import matplotlib.pyplot as plt\n",
    "import pandas as pd\n",
    "from sklearn.cluster import KMeans"
   ],
   "metadata": {
    "collapsed": false,
    "pycharm": {
     "name": "#%%\n"
    }
   }
  },
  {
   "cell_type": "code",
   "execution_count": 2,
   "outputs": [],
   "source": [
    "# a) Laden des Datensatzes\n",
    "X = np.load(r'data.npy')"
   ],
   "metadata": {
    "collapsed": false,
    "pycharm": {
     "name": "#%%\n"
    }
   }
  },
  {
   "cell_type": "code",
   "execution_count": 3,
   "outputs": [
    {
     "data": {
      "text/plain": "<Figure size 432x288 with 1 Axes>",
      "image/png": "[encoded data removed]"
     },
     "metadata": {
      "needs_background": "light"
     },
     "output_type": "display_data"
    },
    {
     "data": {
      "text/plain": "<Figure size 432x288 with 1 Axes>",
      "image/png": "[encoded data removed]"
     },
     "metadata": {
      "needs_background": "light"
     },
     "output_type": "display_data"
    }
   ],
   "source": [
    "# b.1) Plotten des Datensatzes X mit Achsen-Linien\n",
    "plt.plot(X[:,0], X[:,1],'rx')\n",
    "#plt.axis('on')\n",
    "plt.show()\n",
    "\n",
    "# b.2) Plotten des Datensatzes X ohne Achsen-Linien\n",
    "plt.plot(X[:,0], X[:,1],'rx')\n",
    "plt.axis('off')\n",
    "plt.show()"
   ],
   "metadata": {
    "collapsed": false,
    "pycharm": {
     "name": "#%%\n"
    }
   }
  },
  {
   "cell_type": "code",
   "execution_count": 4,
   "outputs": [
    {
     "name": "stdout",
     "output_type": "stream",
     "text": [
      "Initialization 0\n",
      "  Iteration 1\t time lapse 0.69107s\t ll change inf\n",
      "  Iteration 2\t time lapse 0.00297s\t ll change 0.02638\n",
      "  Iteration 3\t time lapse 0.00201s\t ll change 0.00807\n",
      "  Iteration 4\t time lapse 0.00198s\t ll change 0.00375\n",
      "  Iteration 5\t time lapse 0.00299s\t ll change 0.00213\n",
      "  Iteration 6\t time lapse 0.00199s\t ll change 0.00138\n",
      "  Iteration 7\t time lapse 0.00199s\t ll change 0.00098\n",
      "Initialization converged: True\t time lapse 0.70501s\t ll -2.86252\n"
     ]
    }
   ],
   "source": [
    "# c) Trainieren des GaussianMixture Verfahrens\n",
    "gmm = GaussianMixture(n_components = 4, max_iter = 100, verbose = 2, verbose_interval = 1, random_state = 1)\n",
    "gmm = gmm.fit(X)"
   ],
   "metadata": {
    "collapsed": false,
    "pycharm": {
     "name": "#%%\n"
    }
   }
  },
  {
   "cell_type": "code",
   "execution_count": 13,
   "outputs": [
    {
     "name": "stdout",
     "output_type": "stream",
     "text": [
      "[2 2 2 3 0]\n",
      "[[0.058 0.001 0.876 0.064]\n",
      " [0.004 0.002 0.626 0.368]\n",
      " [0.469 0.    0.53  0.001]\n",
      " [0.    0.2   0.002 0.798]\n",
      " [0.618 0.    0.382 0.   ]]\n",
      "[[3.83231285 3.73971617]\n",
      " [2.17046898 0.83815294]\n",
      " [2.78621621 2.85337214]\n",
      " [1.24617502 1.86934982]]\n",
      "[0.19809151 0.22057678 0.25427269 0.32705902]\n",
      "[[[ 0.34527613  0.16093846]\n",
      "  [ 0.16093846  0.40434966]]\n",
      "\n",
      " [[ 0.43488384 -0.29084637]\n",
      "  [-0.29084637  0.47332685]]\n",
      "\n",
      " [[ 0.35301884 -0.12569163]\n",
      "  [-0.12569163  0.45750353]]\n",
      "\n",
      " [[ 0.51575436 -0.14608269]\n",
      "  [-0.14608269  0.56058388]]]\n"
     ]
    }
   ],
   "source": [
    "# d) Clustervorhersage für die Trainingsdaten,Ausgabe der vorhergesagten Wahrscheinlichkeiten für jede Instanz,Means,\n",
    "# weights, covariances der Clusterzentren\n",
    "cluster = gmm.predict(X)\n",
    "probs = gmm.predict_proba(X)\n",
    "means = gmm.means_\n",
    "weights = gmm.weights_\n",
    "covariances = gmm.covariances_\n",
    "\n",
    "print(cluster[0:5])\n",
    "print(np.around(probs[0:5], 3))\n",
    "print(means[0:5])\n",
    "print(weights[0:5])\n",
    "print(covariances[0:5])"
   ],
   "metadata": {
    "collapsed": false,
    "pycharm": {
     "name": "#%%\n"
    }
   }
  },
  {
   "cell_type": "code",
   "execution_count": null,
   "outputs": [],
   "source": [
    "# e) Plotten des Arrays X mit Cluterzuordnung\n",
    "plt.scatter(X[:,0], X[:,1], c= cluster, s=40, cmap = 'winter')\n",
    "plt.scatter(means[:,0], means[:,1], c = 'black', s = 100)\n",
    "plt.show()"
   ],
   "metadata": {
    "collapsed": false,
    "pycharm": {
     "name": "#%%\n"
    }
   }
  },
  {
   "cell_type": "code",
   "execution_count": null,
   "outputs": [],
   "source": [
    "# f)\n",
    "# Trainieren des KMeans mit den in Teilaufgabe d) erarbeiteten k Clusterzentren\n",
    "kmeans = KMeans(n_clusters = 4, init = 'k-means++', n_init = 10, max_iter = 300, random_state = 1)\n",
    "kmeans = kmeans.fit(X)\n",
    "\n",
    "# Vorhersage\n",
    "y_pred = kmeans.fit_predict(X)\n",
    "\n",
    "# plotten\n",
    "plt.scatter(X[:,0], X[:,1], c= y_pred, cmap = 'viridis')\n",
    "plt.scatter(kmeans.cluster_centers_[:, 0], kmeans.cluster_centers_[:, 1], s=100, c='red')\n",
    "plt.show()\n",
    "\n"
   ],
   "metadata": {
    "collapsed": false,
    "pycharm": {
     "name": "#%%\n"
    }
   }
  }
 ],
 "metadata": {
  "kernelspec": {
   "display_name": "Python 3",
   "language": "python",
   "name": "python3"
  },
  "language_info": {
   "codemirror_mode": {
    "name": "ipython",
    "version": 2
   },
   "file_extension": ".py",
   "mimetype": "text/x-python",
   "name": "python",
   "nbconvert_exporter": "python",
   "pygments_lexer": "ipython2",
   "version": "2.7.6"
  }
 },
 "nbformat": 4,
 "nbformat_minor": 0
}