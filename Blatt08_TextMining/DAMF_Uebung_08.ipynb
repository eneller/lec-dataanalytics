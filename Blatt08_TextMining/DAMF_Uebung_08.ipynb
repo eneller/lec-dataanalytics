{
 "cells": [
  {
   "cell_type": "code",
   "execution_count": null,
   "metadata": {
    "collapsed": true,
    "pycharm": {
     "name": "#%%\n"
    }
   },
   "outputs": [],
   "source": [
    "!pip install nltk\n",
    "import nltk\n",
    "from nltk.corpus import stopwords\n",
    "from nltk.stem import WordNetLemmatizer\n",
    "from nltk.tag import pos_tag\n",
    "from nltk.tokenize import RegexpTokenizer"
   ]
  },
  {
   "cell_type": "code",
   "execution_count": null,
   "outputs": [],
   "source": [
    "#Laden benötigter Wortbibliotheken\n",
    "nltk.download('punkt')\n",
    "nltk.download('stopwords')\n",
    "nltk.download('averaged_perceptron_tagger')\n",
    "nltk.download('wordnet')\n",
    "nltk.download('omw-1.4')"
   ],
   "metadata": {
    "collapsed": false,
    "pycharm": {
     "name": "#%%\n"
    }
   }
  },
  {
   "cell_type": "code",
   "execution_count": null,
   "outputs": [],
   "source": [
    "X=['This is a horrible service, I contacted the store and did not get any response!','Never again!!!'] #Tragen Sie hier die zu Vroverarbeitenden Reviews ein"
   ],
   "metadata": {
    "collapsed": false,
    "pycharm": {
     "name": "#%%\n"
    }
   }
  },
  {
   "cell_type": "code",
   "execution_count": null,
   "outputs": [],
   "source": [
    "#Schritt 2:\n",
    "# Umwandeln in Kleinbuchstaben:\n",
    "for i, review in enumerate(X):\n",
    "    review = review.lower()\n",
    "    X[i] = review\n",
    "\n",
    "# Tokenisieren der Reviews:\n",
    "tokenizer = RegexpTokenizer(r'\\w+')\n",
    "for i, review in enumerate(X):\n",
    "    review_tokens = tokenizer.tokenize(review)\n",
    "    X[i] = review_tokens"
   ],
   "metadata": {
    "collapsed": false,
    "pycharm": {
     "name": "#%%\n"
    }
   }
  },
  {
   "cell_type": "code",
   "execution_count": null,
   "outputs": [],
   "source": [
    "#Schritt 3:\n",
    "# Entfernen der Stoppwörter:\n",
    "sw = stopwords.words('english')\n",
    "review_without_sw = list()\n",
    "for i, review_tokens in enumerate(X):\n",
    "    for token in review_tokens:\n",
    "        if token not in sw:\n",
    "            review_without_sw.append(token)\n",
    "    X[i] = review_without_sw\n",
    "    review_without_sw = []"
   ],
   "metadata": {
    "collapsed": false,
    "pycharm": {
     "name": "#%%\n"
    }
   }
  },
  {
   "cell_type": "code",
   "execution_count": null,
   "outputs": [],
   "source": [
    "#Schritt 4:\n",
    "# Lemmatisierung\n",
    "wl = WordNetLemmatizer()\n",
    "for i, review in enumerate(X):\n",
    "        review_tokens_pos = pos_tag(review)\n",
    "        X[i] = review_tokens_pos\n",
    "\n",
    "sentence_tokens_lem = list()\n",
    "for i, review in enumerate(X):\n",
    "    for token, tag in review:\n",
    "        if tag.startswith(\"NN\"):\n",
    "            token = wl.lemmatize(token, pos=\"n\")\n",
    "        elif tag.startswith(\"VB\"):\n",
    "            token = wl.lemmatize(token, pos=\"v\")\n",
    "        elif tag.startswith(\"JJ\"):\n",
    "            token = wl.lemmatize(token, pos= \"a\")\n",
    "\n",
    "        sentence_tokens_lem.append(token)\n",
    "\n",
    "    X[i] = sentence_tokens_lem\n",
    "\n",
    "    sentence_tokens_lem = []\n",
    "\n",
    "\n",
    "\n"
   ],
   "metadata": {
    "collapsed": false,
    "pycharm": {
     "name": "#%%\n"
    }
   }
  },
  {
   "cell_type": "code",
   "execution_count": null,
   "outputs": [],
   "source": [
    "print(X)"
   ],
   "metadata": {
    "collapsed": false,
    "pycharm": {
     "name": "#%%\n"
    }
   }
  }
 ],
 "metadata": {
  "kernelspec": {
   "display_name": "Python 3",
   "language": "python",
   "name": "python3"
  },
  "language_info": {
   "codemirror_mode": {
    "name": "ipython",
    "version": 2
   },
   "file_extension": ".py",
   "mimetype": "text/x-python",
   "name": "python",
   "nbconvert_exporter": "python",
   "pygments_lexer": "ipython2",
   "version": "2.7.6"
  }
 },
 "nbformat": 4,
 "nbformat_minor": 0
}