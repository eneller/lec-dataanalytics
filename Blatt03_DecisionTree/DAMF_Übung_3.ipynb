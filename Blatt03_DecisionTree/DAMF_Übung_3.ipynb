{
 "cells": [
  {
   "cell_type": "code",
   "execution_count": 2,
   "metadata": {
    "pycharm": {
     "name": "#%%\n"
    }
   },
   "outputs": [],
   "source": [
    "from sklearn.tree import DecisionTreeClassifier, plot_tree\n",
    "from sklearn.model_selection import train_test_split\n",
    "from sklearn.preprocessing import OrdinalEncoder\n",
    "from sklearn.metrics import accuracy_score, recall_score, \\\n",
    "    precision_score, f1_score\n",
    "import pandas as pd\n",
    "import matplotlib.pyplot as plt\n",
    "import numpy as np"
   ]
  },
  {
   "cell_type": "code",
   "execution_count": 19,
   "metadata": {
    "pycharm": {
     "name": "#%%\n"
    }
   },
   "outputs": [
    {
     "data": {
      "text/html": [
       "<div>\n",
       "<style scoped>\n",
       "    .dataframe tbody tr th:only-of-type {\n",
       "        vertical-align: middle;\n",
       "    }\n",
       "\n",
       "    .dataframe tbody tr th {\n",
       "        vertical-align: top;\n",
       "    }\n",
       "\n",
       "    .dataframe thead th {\n",
       "        text-align: right;\n",
       "    }\n",
       "</style>\n",
       "<table border=\"1\" class=\"dataframe\">\n",
       "  <thead>\n",
       "    <tr style=\"text-align: right;\">\n",
       "      <th></th>\n",
       "      <th>Id</th>\n",
       "      <th>CustomerId</th>\n",
       "      <th>Dauer</th>\n",
       "      <th>Transaktionsvolumen</th>\n",
       "      <th>Vertriebsweg</th>\n",
       "      <th>Reklamation</th>\n",
       "      <th>Kreditrating</th>\n",
       "      <th>Geschlecht</th>\n",
       "      <th>Alter</th>\n",
       "      <th>Versicherungstyp</th>\n",
       "      <th>Versicherungssumme</th>\n",
       "      <th>Gehalt</th>\n",
       "      <th>Wechsel</th>\n",
       "    </tr>\n",
       "  </thead>\n",
       "  <tbody>\n",
       "    <tr>\n",
       "      <th>0</th>\n",
       "      <td>6517</td>\n",
       "      <td>15795246</td>\n",
       "      <td>lang</td>\n",
       "      <td>mittel</td>\n",
       "      <td>digital</td>\n",
       "      <td>nicht vorgefallen</td>\n",
       "      <td>628</td>\n",
       "      <td>Female</td>\n",
       "      <td>51.0</td>\n",
       "      <td>9</td>\n",
       "      <td>15590382</td>\n",
       "      <td>7115984</td>\n",
       "      <td>kein Wechsel</td>\n",
       "    </tr>\n",
       "    <tr>\n",
       "      <th>1</th>\n",
       "      <td>7117</td>\n",
       "      <td>15765257</td>\n",
       "      <td>durchschnittlich</td>\n",
       "      <td>gering</td>\n",
       "      <td>digital</td>\n",
       "      <td>nicht vorgefallen</td>\n",
       "      <td>564</td>\n",
       "      <td>Male</td>\n",
       "      <td>31.0</td>\n",
       "      <td>5</td>\n",
       "      <td>12146187</td>\n",
       "      <td>2043209</td>\n",
       "      <td>kein Wechsel</td>\n",
       "    </tr>\n",
       "    <tr>\n",
       "      <th>2</th>\n",
       "      <td>8360</td>\n",
       "      <td>15754747</td>\n",
       "      <td>lang</td>\n",
       "      <td>mittel</td>\n",
       "      <td>analog</td>\n",
       "      <td>nicht vorgefallen</td>\n",
       "      <td>686</td>\n",
       "      <td>Male</td>\n",
       "      <td>33.0</td>\n",
       "      <td>9</td>\n",
       "      <td>14191809</td>\n",
       "      <td>18403647</td>\n",
       "      <td>kein Wechsel</td>\n",
       "    </tr>\n",
       "    <tr>\n",
       "      <th>3</th>\n",
       "      <td>1761</td>\n",
       "      <td>15796313</td>\n",
       "      <td>kurz</td>\n",
       "      <td>mittel</td>\n",
       "      <td>digital</td>\n",
       "      <td>vorgefallen</td>\n",
       "      <td>662</td>\n",
       "      <td>Female</td>\n",
       "      <td>36.0</td>\n",
       "      <td>4</td>\n",
       "      <td>1669092</td>\n",
       "      <td>13887112</td>\n",
       "      <td>kein Wechsel</td>\n",
       "    </tr>\n",
       "    <tr>\n",
       "      <th>4</th>\n",
       "      <td>9195</td>\n",
       "      <td>15710315</td>\n",
       "      <td>lang</td>\n",
       "      <td>gering</td>\n",
       "      <td>analog</td>\n",
       "      <td>vorgefallen</td>\n",
       "      <td>529</td>\n",
       "      <td>Male</td>\n",
       "      <td>29.0</td>\n",
       "      <td>4</td>\n",
       "      <td>1357594</td>\n",
       "      <td>11281379</td>\n",
       "      <td>kein Wechsel</td>\n",
       "    </tr>\n",
       "  </tbody>\n",
       "</table>\n",
       "</div>"
      ],
      "text/plain": [
       "     Id  CustomerId             Dauer Transaktionsvolumen Vertriebsweg   \n",
       "0  6517    15795246              lang              mittel      digital  \\\n",
       "1  7117    15765257  durchschnittlich              gering      digital   \n",
       "2  8360    15754747              lang              mittel       analog   \n",
       "3  1761    15796313              kurz              mittel      digital   \n",
       "4  9195    15710315              lang              gering       analog   \n",
       "\n",
       "         Reklamation  Kreditrating Geschlecht  Alter  Versicherungstyp   \n",
       "0  nicht vorgefallen           628     Female   51.0                 9  \\\n",
       "1  nicht vorgefallen           564       Male   31.0                 5   \n",
       "2  nicht vorgefallen           686       Male   33.0                 9   \n",
       "3        vorgefallen           662     Female   36.0                 4   \n",
       "4        vorgefallen           529       Male   29.0                 4   \n",
       "\n",
       "   Versicherungssumme    Gehalt       Wechsel  \n",
       "0            15590382   7115984  kein Wechsel  \n",
       "1            12146187   2043209  kein Wechsel  \n",
       "2            14191809  18403647  kein Wechsel  \n",
       "3             1669092  13887112  kein Wechsel  \n",
       "4             1357594  11281379  kein Wechsel  "
      ]
     },
     "execution_count": 19,
     "metadata": {},
     "output_type": "execute_result"
    }
   ],
   "source": [
    "dataset = pd.read_csv('abwanderung.csv')\n",
    "dataset.head()"
   ]
  },
  {
   "cell_type": "code",
   "execution_count": 20,
   "metadata": {},
   "outputs": [
    {
     "data": {
      "text/html": [
       "<div>\n",
       "<style scoped>\n",
       "    .dataframe tbody tr th:only-of-type {\n",
       "        vertical-align: middle;\n",
       "    }\n",
       "\n",
       "    .dataframe tbody tr th {\n",
       "        vertical-align: top;\n",
       "    }\n",
       "\n",
       "    .dataframe thead th {\n",
       "        text-align: right;\n",
       "    }\n",
       "</style>\n",
       "<table border=\"1\" class=\"dataframe\">\n",
       "  <thead>\n",
       "    <tr style=\"text-align: right;\">\n",
       "      <th></th>\n",
       "      <th>Dauer</th>\n",
       "      <th>Transaktionsvolumen</th>\n",
       "      <th>Vertriebsweg</th>\n",
       "      <th>Reklamation</th>\n",
       "      <th>Kreditrating</th>\n",
       "      <th>Geschlecht</th>\n",
       "      <th>Alter</th>\n",
       "      <th>Versicherungstyp</th>\n",
       "      <th>Versicherungssumme</th>\n",
       "      <th>Gehalt</th>\n",
       "      <th>Wechsel</th>\n",
       "    </tr>\n",
       "  </thead>\n",
       "  <tbody>\n",
       "    <tr>\n",
       "      <th>0</th>\n",
       "      <td>lang</td>\n",
       "      <td>mittel</td>\n",
       "      <td>digital</td>\n",
       "      <td>nicht vorgefallen</td>\n",
       "      <td>628</td>\n",
       "      <td>Female</td>\n",
       "      <td>51.0</td>\n",
       "      <td>9</td>\n",
       "      <td>15590382</td>\n",
       "      <td>7115984</td>\n",
       "      <td>kein Wechsel</td>\n",
       "    </tr>\n",
       "    <tr>\n",
       "      <th>1</th>\n",
       "      <td>durchschnittlich</td>\n",
       "      <td>gering</td>\n",
       "      <td>digital</td>\n",
       "      <td>nicht vorgefallen</td>\n",
       "      <td>564</td>\n",
       "      <td>Male</td>\n",
       "      <td>31.0</td>\n",
       "      <td>5</td>\n",
       "      <td>12146187</td>\n",
       "      <td>2043209</td>\n",
       "      <td>kein Wechsel</td>\n",
       "    </tr>\n",
       "    <tr>\n",
       "      <th>2</th>\n",
       "      <td>lang</td>\n",
       "      <td>mittel</td>\n",
       "      <td>analog</td>\n",
       "      <td>nicht vorgefallen</td>\n",
       "      <td>686</td>\n",
       "      <td>Male</td>\n",
       "      <td>33.0</td>\n",
       "      <td>9</td>\n",
       "      <td>14191809</td>\n",
       "      <td>18403647</td>\n",
       "      <td>kein Wechsel</td>\n",
       "    </tr>\n",
       "    <tr>\n",
       "      <th>3</th>\n",
       "      <td>kurz</td>\n",
       "      <td>mittel</td>\n",
       "      <td>digital</td>\n",
       "      <td>vorgefallen</td>\n",
       "      <td>662</td>\n",
       "      <td>Female</td>\n",
       "      <td>36.0</td>\n",
       "      <td>4</td>\n",
       "      <td>1669092</td>\n",
       "      <td>13887112</td>\n",
       "      <td>kein Wechsel</td>\n",
       "    </tr>\n",
       "    <tr>\n",
       "      <th>4</th>\n",
       "      <td>lang</td>\n",
       "      <td>gering</td>\n",
       "      <td>analog</td>\n",
       "      <td>vorgefallen</td>\n",
       "      <td>529</td>\n",
       "      <td>Male</td>\n",
       "      <td>29.0</td>\n",
       "      <td>4</td>\n",
       "      <td>1357594</td>\n",
       "      <td>11281379</td>\n",
       "      <td>kein Wechsel</td>\n",
       "    </tr>\n",
       "  </tbody>\n",
       "</table>\n",
       "</div>"
      ],
      "text/plain": [
       "              Dauer Transaktionsvolumen Vertriebsweg        Reklamation   \n",
       "0              lang              mittel      digital  nicht vorgefallen  \\\n",
       "1  durchschnittlich              gering      digital  nicht vorgefallen   \n",
       "2              lang              mittel       analog  nicht vorgefallen   \n",
       "3              kurz              mittel      digital        vorgefallen   \n",
       "4              lang              gering       analog        vorgefallen   \n",
       "\n",
       "   Kreditrating Geschlecht  Alter  Versicherungstyp  Versicherungssumme   \n",
       "0           628     Female   51.0                 9            15590382  \\\n",
       "1           564       Male   31.0                 5            12146187   \n",
       "2           686       Male   33.0                 9            14191809   \n",
       "3           662     Female   36.0                 4             1669092   \n",
       "4           529       Male   29.0                 4             1357594   \n",
       "\n",
       "     Gehalt       Wechsel  \n",
       "0   7115984  kein Wechsel  \n",
       "1   2043209  kein Wechsel  \n",
       "2  18403647  kein Wechsel  \n",
       "3  13887112  kein Wechsel  \n",
       "4  11281379  kein Wechsel  "
      ]
     },
     "execution_count": 20,
     "metadata": {},
     "output_type": "execute_result"
    }
   ],
   "source": [
    "#Löschen der für die Datenanalyse unnötigen Spalten.\n",
    "#Tragen Sie dazu die Spaltennamen mit Anführungszeichen getrennet durch Komma zwischen\n",
    "#die rechteckigen Klammern ein (z.B 'Alter', 'Gehalt') um die Spalten Alter und Gehalt zu löschen\n",
    "dataset = dataset.drop(columns=[\"Id\", \"CustomerId\"])\n",
    "dataset.head()\n"
   ]
  },
  {
   "cell_type": "code",
   "execution_count": 21,
   "metadata": {},
   "outputs": [
    {
     "data": {
      "text/plain": [
       "array(['mittel', 'gering', 'hoch', 'sehr hoch'], dtype=object)"
      ]
     },
     "execution_count": 21,
     "metadata": {},
     "output_type": "execute_result"
    }
   ],
   "source": [
    "dataset[\"Transaktionsvolumen\"].unique()"
   ]
  },
  {
   "cell_type": "code",
   "execution_count": 22,
   "metadata": {},
   "outputs": [
    {
     "data": {
      "text/html": [
       "<div>\n",
       "<style scoped>\n",
       "    .dataframe tbody tr th:only-of-type {\n",
       "        vertical-align: middle;\n",
       "    }\n",
       "\n",
       "    .dataframe tbody tr th {\n",
       "        vertical-align: top;\n",
       "    }\n",
       "\n",
       "    .dataframe thead th {\n",
       "        text-align: right;\n",
       "    }\n",
       "</style>\n",
       "<table border=\"1\" class=\"dataframe\">\n",
       "  <thead>\n",
       "    <tr style=\"text-align: right;\">\n",
       "      <th></th>\n",
       "      <th>Dauer</th>\n",
       "      <th>Transaktionsvolumen</th>\n",
       "      <th>Vertriebsweg</th>\n",
       "      <th>Reklamation</th>\n",
       "      <th>Kreditrating</th>\n",
       "      <th>Geschlecht</th>\n",
       "      <th>Alter</th>\n",
       "      <th>Versicherungstyp</th>\n",
       "      <th>Versicherungssumme</th>\n",
       "      <th>Gehalt</th>\n",
       "      <th>Wechsel</th>\n",
       "    </tr>\n",
       "  </thead>\n",
       "  <tbody>\n",
       "    <tr>\n",
       "      <th>0</th>\n",
       "      <td>lang</td>\n",
       "      <td>mittel</td>\n",
       "      <td>1.0</td>\n",
       "      <td>0.0</td>\n",
       "      <td>628</td>\n",
       "      <td>0.0</td>\n",
       "      <td>51.0</td>\n",
       "      <td>9</td>\n",
       "      <td>15590382</td>\n",
       "      <td>7115984</td>\n",
       "      <td>kein Wechsel</td>\n",
       "    </tr>\n",
       "    <tr>\n",
       "      <th>1</th>\n",
       "      <td>durchschnittlich</td>\n",
       "      <td>gering</td>\n",
       "      <td>1.0</td>\n",
       "      <td>0.0</td>\n",
       "      <td>564</td>\n",
       "      <td>1.0</td>\n",
       "      <td>31.0</td>\n",
       "      <td>5</td>\n",
       "      <td>12146187</td>\n",
       "      <td>2043209</td>\n",
       "      <td>kein Wechsel</td>\n",
       "    </tr>\n",
       "    <tr>\n",
       "      <th>2</th>\n",
       "      <td>lang</td>\n",
       "      <td>mittel</td>\n",
       "      <td>0.0</td>\n",
       "      <td>0.0</td>\n",
       "      <td>686</td>\n",
       "      <td>1.0</td>\n",
       "      <td>33.0</td>\n",
       "      <td>9</td>\n",
       "      <td>14191809</td>\n",
       "      <td>18403647</td>\n",
       "      <td>kein Wechsel</td>\n",
       "    </tr>\n",
       "    <tr>\n",
       "      <th>3</th>\n",
       "      <td>kurz</td>\n",
       "      <td>mittel</td>\n",
       "      <td>1.0</td>\n",
       "      <td>1.0</td>\n",
       "      <td>662</td>\n",
       "      <td>0.0</td>\n",
       "      <td>36.0</td>\n",
       "      <td>4</td>\n",
       "      <td>1669092</td>\n",
       "      <td>13887112</td>\n",
       "      <td>kein Wechsel</td>\n",
       "    </tr>\n",
       "    <tr>\n",
       "      <th>4</th>\n",
       "      <td>lang</td>\n",
       "      <td>gering</td>\n",
       "      <td>0.0</td>\n",
       "      <td>1.0</td>\n",
       "      <td>529</td>\n",
       "      <td>1.0</td>\n",
       "      <td>29.0</td>\n",
       "      <td>4</td>\n",
       "      <td>1357594</td>\n",
       "      <td>11281379</td>\n",
       "      <td>kein Wechsel</td>\n",
       "    </tr>\n",
       "  </tbody>\n",
       "</table>\n",
       "</div>"
      ],
      "text/plain": [
       "              Dauer Transaktionsvolumen  Vertriebsweg  Reklamation   \n",
       "0              lang              mittel           1.0          0.0  \\\n",
       "1  durchschnittlich              gering           1.0          0.0   \n",
       "2              lang              mittel           0.0          0.0   \n",
       "3              kurz              mittel           1.0          1.0   \n",
       "4              lang              gering           0.0          1.0   \n",
       "\n",
       "   Kreditrating  Geschlecht  Alter  Versicherungstyp  Versicherungssumme   \n",
       "0           628         0.0   51.0                 9            15590382  \\\n",
       "1           564         1.0   31.0                 5            12146187   \n",
       "2           686         1.0   33.0                 9            14191809   \n",
       "3           662         0.0   36.0                 4             1669092   \n",
       "4           529         1.0   29.0                 4             1357594   \n",
       "\n",
       "     Gehalt       Wechsel  \n",
       "0   7115984  kein Wechsel  \n",
       "1   2043209  kein Wechsel  \n",
       "2  18403647  kein Wechsel  \n",
       "3  13887112  kein Wechsel  \n",
       "4  11281379  kein Wechsel  "
      ]
     },
     "execution_count": 22,
     "metadata": {},
     "output_type": "execute_result"
    }
   ],
   "source": [
    "\n",
    "\n",
    "'''\n",
    "Mit dem Encoder können Sie alle Spalten, die nicht-numerische Daten enhalten,\n",
    "in numerische Daten umwandeln. Wären dies beispielsweise die Spalten Dauer\n",
    "und Gehalt, müssten Sie anstelle des Platzhalters folgenden Text einfügen (inkl. Anführungszeichen):\n",
    "'Dauer', 'Gehalt'. Machen Sie das zunächst für die Spalten mit nur zwei möglichen Werten.\n",
    "'''\n",
    "\n",
    "def encodeBinary(column):\n",
    "    enc = OrdinalEncoder()\n",
    "    enc.fit(dataset[[column]])\n",
    "    dataset[[column]] = enc.transform(dataset[[column]])\n",
    "    \n",
    "encodeBinary(\"Vertriebsweg\")\n",
    "encodeBinary(\"Reklamation\")\n",
    "encodeBinary(\"Geschlecht\")\n",
    "\n",
    "dataset.head(5)"
   ]
  },
  {
   "cell_type": "code",
   "execution_count": 23,
   "metadata": {
    "pycharm": {
     "name": "#%%\n"
    }
   },
   "outputs": [
    {
     "data": {
      "text/html": [
       "<div>\n",
       "<style scoped>\n",
       "    .dataframe tbody tr th:only-of-type {\n",
       "        vertical-align: middle;\n",
       "    }\n",
       "\n",
       "    .dataframe tbody tr th {\n",
       "        vertical-align: top;\n",
       "    }\n",
       "\n",
       "    .dataframe thead th {\n",
       "        text-align: right;\n",
       "    }\n",
       "</style>\n",
       "<table border=\"1\" class=\"dataframe\">\n",
       "  <thead>\n",
       "    <tr style=\"text-align: right;\">\n",
       "      <th></th>\n",
       "      <th>Dauer</th>\n",
       "      <th>Transaktionsvolumen</th>\n",
       "      <th>Vertriebsweg</th>\n",
       "      <th>Reklamation</th>\n",
       "      <th>Kreditrating</th>\n",
       "      <th>Geschlecht</th>\n",
       "      <th>Alter</th>\n",
       "      <th>Versicherungstyp</th>\n",
       "      <th>Versicherungssumme</th>\n",
       "      <th>Gehalt</th>\n",
       "      <th>Wechsel</th>\n",
       "    </tr>\n",
       "  </thead>\n",
       "  <tbody>\n",
       "    <tr>\n",
       "      <th>0</th>\n",
       "      <td>2.0</td>\n",
       "      <td>1.0</td>\n",
       "      <td>1.0</td>\n",
       "      <td>0.0</td>\n",
       "      <td>628</td>\n",
       "      <td>0.0</td>\n",
       "      <td>51.0</td>\n",
       "      <td>9</td>\n",
       "      <td>15590382</td>\n",
       "      <td>7115984</td>\n",
       "      <td>kein Wechsel</td>\n",
       "    </tr>\n",
       "    <tr>\n",
       "      <th>1</th>\n",
       "      <td>1.0</td>\n",
       "      <td>0.0</td>\n",
       "      <td>1.0</td>\n",
       "      <td>0.0</td>\n",
       "      <td>564</td>\n",
       "      <td>1.0</td>\n",
       "      <td>31.0</td>\n",
       "      <td>5</td>\n",
       "      <td>12146187</td>\n",
       "      <td>2043209</td>\n",
       "      <td>kein Wechsel</td>\n",
       "    </tr>\n",
       "    <tr>\n",
       "      <th>2</th>\n",
       "      <td>2.0</td>\n",
       "      <td>1.0</td>\n",
       "      <td>0.0</td>\n",
       "      <td>0.0</td>\n",
       "      <td>686</td>\n",
       "      <td>1.0</td>\n",
       "      <td>33.0</td>\n",
       "      <td>9</td>\n",
       "      <td>14191809</td>\n",
       "      <td>18403647</td>\n",
       "      <td>kein Wechsel</td>\n",
       "    </tr>\n",
       "    <tr>\n",
       "      <th>3</th>\n",
       "      <td>0.0</td>\n",
       "      <td>1.0</td>\n",
       "      <td>1.0</td>\n",
       "      <td>1.0</td>\n",
       "      <td>662</td>\n",
       "      <td>0.0</td>\n",
       "      <td>36.0</td>\n",
       "      <td>4</td>\n",
       "      <td>1669092</td>\n",
       "      <td>13887112</td>\n",
       "      <td>kein Wechsel</td>\n",
       "    </tr>\n",
       "    <tr>\n",
       "      <th>4</th>\n",
       "      <td>2.0</td>\n",
       "      <td>0.0</td>\n",
       "      <td>0.0</td>\n",
       "      <td>1.0</td>\n",
       "      <td>529</td>\n",
       "      <td>1.0</td>\n",
       "      <td>29.0</td>\n",
       "      <td>4</td>\n",
       "      <td>1357594</td>\n",
       "      <td>11281379</td>\n",
       "      <td>kein Wechsel</td>\n",
       "    </tr>\n",
       "  </tbody>\n",
       "</table>\n",
       "</div>"
      ],
      "text/plain": [
       "   Dauer  Transaktionsvolumen  Vertriebsweg  Reklamation  Kreditrating   \n",
       "0    2.0                  1.0           1.0          0.0           628  \\\n",
       "1    1.0                  0.0           1.0          0.0           564   \n",
       "2    2.0                  1.0           0.0          0.0           686   \n",
       "3    0.0                  1.0           1.0          1.0           662   \n",
       "4    2.0                  0.0           0.0          1.0           529   \n",
       "\n",
       "   Geschlecht  Alter  Versicherungstyp  Versicherungssumme    Gehalt   \n",
       "0         0.0   51.0                 9            15590382   7115984  \\\n",
       "1         1.0   31.0                 5            12146187   2043209   \n",
       "2         1.0   33.0                 9            14191809  18403647   \n",
       "3         0.0   36.0                 4             1669092  13887112   \n",
       "4         1.0   29.0                 4             1357594  11281379   \n",
       "\n",
       "        Wechsel  \n",
       "0  kein Wechsel  \n",
       "1  kein Wechsel  \n",
       "2  kein Wechsel  \n",
       "3  kein Wechsel  \n",
       "4  kein Wechsel  "
      ]
     },
     "execution_count": 23,
     "metadata": {},
     "output_type": "execute_result"
    }
   ],
   "source": [
    "\n",
    "'''\n",
    "Für Spalten mit mehr als drei Werten, die man anordnen kann (z.B. die Dauer des Vertrag,\n",
    "wo mathematisch gesehen gilt, dass lang > mittel > kurz), muss man dem Encoder, die\n",
    "Reihenfolge manuell übergeben, da er ansonsten die Werte alphabetisch anordnet\n",
    "\n",
    "'''\n",
    "enc2=OrdinalEncoder(categories=[['kurz','durchschnittlich','lang'],['gering','mittel','hoch','sehr hoch']])\n",
    "enc2.fit(dataset[['Dauer','Transaktionsvolumen']])\n",
    "dataset[['Dauer','Transaktionsvolumen']]=enc2.transform(dataset[['Dauer','Transaktionsvolumen']])\n",
    "\n",
    "dataset.head()"
   ]
  },
  {
   "cell_type": "code",
   "execution_count": 24,
   "metadata": {
    "pycharm": {
     "name": "#%%\n"
    }
   },
   "outputs": [],
   "source": [
    "#Splitten der Daten in Trainings- und Testdaten. Tragen Sie dazu den Namen der Spalte, die der\n",
    "#Entscheidungsbaum vorhersagen soll anstelle des Platzhalters ein.\n",
    "#Fügen Sie zusätzlich in der letzten Zeile den Wert der test size ein, sodass 20% der Daten als\n",
    "#Trainingsdaten verwenet werden\n",
    "\n",
    "y = dataset['Wechsel']\n",
    "X = dataset.drop(columns='Wechsel')\n",
    "X_train, X_test, y_train, y_test = \\\n",
    "    train_test_split(X, y,test_size=.2 , random_state=1)"
   ]
  },
  {
   "cell_type": "code",
   "execution_count": 25,
   "metadata": {
    "pycharm": {
     "name": "#%%\n"
    }
   },
   "outputs": [
    {
     "data": {
      "text/plain": [
       "[Text(0.5, 0.8333333333333334, 'Alter <= 41.5\\nentropy = 0.976\\nsamples = 3598\\nvalue = [1473, 2125]\\nclass = kein Wechsel'),\n",
       " Text(0.25, 0.5, 'Transaktionsvolumen <= 1.5\\nentropy = 0.798\\nsamples = 2136\\nvalue = [516, 1620]\\nclass = kein Wechsel'),\n",
       " Text(0.125, 0.16666666666666666, 'entropy = 0.742\\nsamples = 2043\\nvalue = [430, 1613]\\nclass = kein Wechsel'),\n",
       " Text(0.375, 0.16666666666666666, 'entropy = 0.385\\nsamples = 93\\nvalue = [86, 7]\\nclass = Wechsel'),\n",
       " Text(0.75, 0.5, 'Reklamation <= 0.5\\nentropy = 0.93\\nsamples = 1462\\nvalue = [957, 505]\\nclass = Wechsel'),\n",
       " Text(0.625, 0.16666666666666666, 'entropy = 1.0\\nsamples = 674\\nvalue = [339, 335]\\nclass = Wechsel'),\n",
       " Text(0.875, 0.16666666666666666, 'entropy = 0.752\\nsamples = 788\\nvalue = [618, 170]\\nclass = Wechsel')]"
      ]
     },
     "execution_count": 25,
     "metadata": {},
     "output_type": "execute_result"
    },
    {
     "data": {
      "image/png": "[encoded data removed]",
      "text/plain": [
       "<Figure size 640x480 with 1 Axes>"
      ]
     },
     "metadata": {},
     "output_type": "display_data"
    }
   ],
   "source": [
    "features = X.columns\n",
    "class_names = ['Wechsel', 'kein Wechsel']\n",
    "clf = DecisionTreeClassifier(criterion='entropy',random_state=1, max_depth=2)\n",
    "clf.fit(X=X_train, y=y_train)\n",
    "plot_tree(clf, feature_names=features, class_names=class_names)\n",
    "#plt.savefig('./out.pdf')"
   ]
  },
  {
   "cell_type": "code",
   "execution_count": 26,
   "metadata": {
    "pycharm": {
     "name": "#%%\n"
    }
   },
   "outputs": [
    {
     "name": "stdout",
     "output_type": "stream",
     "text": [
      "[0.72333333 0.74       0.78333333 0.79444444 0.82555556 0.82777778\n",
      " 0.79666667 0.80888889 0.79111111 0.77333333]\n"
     ]
    },
    {
     "data": {
      "text/plain": [
       "([<matplotlib.axis.XTick at 0x7febe6c09290>,\n",
       "  <matplotlib.axis.XTick at 0x7febe6c1f410>,\n",
       "  <matplotlib.axis.XTick at 0x7febe960ce50>,\n",
       "  <matplotlib.axis.XTick at 0x7febe6b96e10>,\n",
       "  <matplotlib.axis.XTick at 0x7febe6c3d090>,\n",
       "  <matplotlib.axis.XTick at 0x7febe6c3f3d0>,\n",
       "  <matplotlib.axis.XTick at 0x7febe6c41610>,\n",
       "  <matplotlib.axis.XTick at 0x7febe6c43a90>,\n",
       "  <matplotlib.axis.XTick at 0x7febe6b98410>,\n",
       "  <matplotlib.axis.XTick at 0x7febe6c4a690>],\n",
       " [Text(1, 0, '1'),\n",
       "  Text(2, 0, '2'),\n",
       "  Text(3, 0, '3'),\n",
       "  Text(4, 0, '4'),\n",
       "  Text(5, 0, '5'),\n",
       "  Text(6, 0, '6'),\n",
       "  Text(7, 0, '7'),\n",
       "  Text(8, 0, '8'),\n",
       "  Text(9, 0, '9'),\n",
       "  Text(10, 0, '10')])"
      ]
     },
     "execution_count": 26,
     "metadata": {},
     "output_type": "execute_result"
    },
    {
     "data": {
      "image/png": "[encoded data removed]",
      "text/plain": [
       "<Figure size 640x480 with 1 Axes>"
      ]
     },
     "metadata": {},
     "output_type": "display_data"
    }
   ],
   "source": [
    "#plotten der accuracy für verschiedene Baumtiefen\n",
    "acc_arr = np.zeros(10)\n",
    "x = range(1, 11)\n",
    "for i in range(1, 11):\n",
    "    clf = DecisionTreeClassifier(criterion='entropy',random_state=1, max_depth=i)\n",
    "    clf.fit(X=X_train, y=y_train)\n",
    "    acc_arr[i-1] = clf.score(X=X_test, y=y_test)\n",
    "#clf.score liefert dasselbe Ergebnis wie accuracy_score\n",
    "plt.plot(x, acc_arr)\n",
    "print(acc_arr)\n",
    "plt.title('accuracy für verschiedene Baumtiefen')\n",
    "plt.xlabel('Baumtiefe')\n",
    "plt.ylabel('accuracy')\n",
    "plt.xticks(x)"
   ]
  },
  {
   "cell_type": "code",
   "execution_count": 27,
   "metadata": {
    "pycharm": {
     "name": "#%%\n"
    }
   },
   "outputs": [],
   "source": [
    "clf = DecisionTreeClassifier(criterion='entropy',random_state=1, max_depth=6)\n",
    "clf.fit(X=X_train, y=y_train)\n",
    "y_pred = clf.predict(X = X_test)"
   ]
  },
  {
   "cell_type": "code",
   "execution_count": 33,
   "metadata": {
    "pycharm": {
     "name": "#%%\n"
    }
   },
   "outputs": [],
   "source": [
    "acc = accuracy_score(y_true=y_test, y_pred=y_pred)\n",
    "rec_wech = recall_score(y_true=y_test, y_pred=y_pred, pos_label='Wechsel')\n",
    "prec_wech = precision_score(y_true=y_test, y_pred=y_pred, pos_label='Wechsel')\n",
    "f1_wech = f1_score(y_true=y_test, y_pred=y_pred, pos_label='Wechsel')\n",
    "rec_nowech = recall_score(y_true=y_test, y_pred=y_pred, pos_label='kein Wechsel')\n",
    "prec_nowech = precision_score(y_true=y_test, y_pred=y_pred, pos_label='kein Wechsel')\n",
    "f1_nowech = f1_score(y_true=y_test, y_pred=y_pred, pos_label='kein Wechsel')"
   ]
  },
  {
   "cell_type": "code",
   "execution_count": 34,
   "metadata": {
    "pycharm": {
     "name": "#%%\n"
    }
   },
   "outputs": [
    {
     "name": "stdout",
     "output_type": "stream",
     "text": [
      "Accuracy :  0.8277777777777777\n",
      "Recall der Klasse 'Wechsel' :  0.7463556851311953\n",
      "Precision der Klasse 'Wechsel' :  0.7901234567901234\n",
      "F_1 Score der Klasse 'Wechsel' :  0.767616191904048\n",
      "Recall der Klasse 'kein Wechsel' :  0.8779174147217235\n",
      "Precision der Klasse 'kein Wechsel' :  0.8489583333333334\n",
      "F_1 Score der Klasse 'kein Wechsel' :  0.8631950573698147\n"
     ]
    }
   ],
   "source": [
    "print('Accuracy : ', acc)\n",
    "print('Recall der Klasse \\'Wechsel\\' : ', rec_wech)\n",
    "print('Precision der Klasse \\'Wechsel\\' : ', prec_wech)\n",
    "print('F_1 Score der Klasse \\'Wechsel\\' : ', f1_wech)\n",
    "print('Recall der Klasse \\'kein Wechsel\\' : ', rec_nowech)\n",
    "print('Precision der Klasse \\'kein Wechsel\\' : ', prec_nowech)\n",
    "print('F_1 Score der Klasse \\'kein Wechsel\\' : ', f1_nowech)"
   ]
  }
 ],
 "metadata": {
  "kernelspec": {
   "display_name": "Python 3 (ipykernel)",
   "language": "python",
   "name": "python3"
  },
  "language_info": {
   "codemirror_mode": {
    "name": "ipython",
    "version": 3
   },
   "file_extension": ".py",
   "mimetype": "text/x-python",
   "name": "python",
   "nbconvert_exporter": "python",
   "pygments_lexer": "ipython3",
   "version": "3.11.3"
  }
 },
 "nbformat": 4,
 "nbformat_minor": 1
}
