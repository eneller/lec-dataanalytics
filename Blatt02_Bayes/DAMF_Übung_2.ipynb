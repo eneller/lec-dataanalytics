{
 "cells": [
  {
   "cell_type": "code",
   "execution_count": 4,
   "metadata": {
    "collapsed": true,
    "pycharm": {
     "name": "#%%\n"
    }
   },
   "outputs": [],
   "source": [
    "import pandas as pd\n",
    "import  numpy as np\n",
    "#importieren Sie hier aus dem sklearn.model_selection Paket\n",
    "#die Funktion train_test_split\n",
    "from sklearn.naive_bayes import CategoricalNB\n",
    "from sklearn.metrics import accuracy_score, precision_score, \\\n",
    "    recall_score, confusion_matrix, f1_score\n",
    "\n"
   ]
  },
  {
   "cell_type": "code",
   "execution_count": 5,
   "outputs": [
    {
     "name": "stdout",
     "output_type": "stream",
     "text": [
      "Der Datensatz enthält Daten zu 18383 Tagen.\n"
     ]
    },
    {
     "data": {
      "text/plain": "  RainTomorrow  MinTemp  MaxTemp  Rainfall  Evaporation  Sunshine  \\\n0           No        4        4         2            4         3   \n1          Yes        4        4         2            4         3   \n2           No        4        4         2            4         4   \n3          Yes        4        4         1            4         4   \n4           No        4        4         1            4         4   \n\n   WindGustSpeed  Humidity  Pressure  \n0              4         0         0  \n1              4         4         0  \n2              3         0         0  \n3              4         0         0  \n4              2         0         0  ",
      "text/html": "<div>\n<style scoped>\n    .dataframe tbody tr th:only-of-type {\n        vertical-align: middle;\n    }\n\n    .dataframe tbody tr th {\n        vertical-align: top;\n    }\n\n    .dataframe thead th {\n        text-align: right;\n    }\n</style>\n<table border=\"1\" class=\"dataframe\">\n  <thead>\n    <tr style=\"text-align: right;\">\n      <th></th>\n      <th>RainTomorrow</th>\n      <th>MinTemp</th>\n      <th>MaxTemp</th>\n      <th>Rainfall</th>\n      <th>Evaporation</th>\n      <th>Sunshine</th>\n      <th>WindGustSpeed</th>\n      <th>Humidity</th>\n      <th>Pressure</th>\n    </tr>\n  </thead>\n  <tbody>\n    <tr>\n      <th>0</th>\n      <td>No</td>\n      <td>4</td>\n      <td>4</td>\n      <td>2</td>\n      <td>4</td>\n      <td>3</td>\n      <td>4</td>\n      <td>0</td>\n      <td>0</td>\n    </tr>\n    <tr>\n      <th>1</th>\n      <td>Yes</td>\n      <td>4</td>\n      <td>4</td>\n      <td>2</td>\n      <td>4</td>\n      <td>3</td>\n      <td>4</td>\n      <td>4</td>\n      <td>0</td>\n    </tr>\n    <tr>\n      <th>2</th>\n      <td>No</td>\n      <td>4</td>\n      <td>4</td>\n      <td>2</td>\n      <td>4</td>\n      <td>4</td>\n      <td>3</td>\n      <td>0</td>\n      <td>0</td>\n    </tr>\n    <tr>\n      <th>3</th>\n      <td>Yes</td>\n      <td>4</td>\n      <td>4</td>\n      <td>1</td>\n      <td>4</td>\n      <td>4</td>\n      <td>4</td>\n      <td>0</td>\n      <td>0</td>\n    </tr>\n    <tr>\n      <th>4</th>\n      <td>No</td>\n      <td>4</td>\n      <td>4</td>\n      <td>1</td>\n      <td>4</td>\n      <td>4</td>\n      <td>2</td>\n      <td>0</td>\n      <td>0</td>\n    </tr>\n  </tbody>\n</table>\n</div>"
     },
     "execution_count": 5,
     "metadata": {},
     "output_type": "execute_result"
    }
   ],
   "source": [
    "#CSV import und Transformation zu data frame\n",
    "dataset = pd.read_csv('') #hier Pfad angeben\n",
    "print(\"Der Datensatz enthält Daten zu \" + str(len(dataset)) + \" Tagen.\")\n",
    "dataset.head() #Ausgabe der obersten Zeilen des Datensatzes\n",
    "\n",
    "#Der nächste Block ist ein Textblock mit Beschreibung des Datensatzes."
   ],
   "metadata": {
    "collapsed": false,
    "pycharm": {
     "name": "#%%\n"
    }
   }
  },
  {
   "cell_type": "markdown",
   "source": [
    "\n",
    "Der Datensatz enhält 9 Spalten: <br>\n",
    "<b>RainTomorrow</b>: Aussage ob es am nächsten Tag geregnet hat <br>\n",
    "Die anderen 8 dienen zu Vorhersage und sind jeweils unterteilt in 5 (bzw. 3) Kategorien, wie unten beschrieben<br>\n",
    "<b>MinTemp</b> - minimale Tagestemperatur: 1: <0°C, 2: 0°C <= x < 8°C 3: 8°C <= x < 16°C 4: 16°C<= x < 24°C 5: >=24°C <br>\n",
    "<b>MaxTemp</b> - maximale Tagestempertur: selbe Skala wie oben <br>\n",
    "<b>RainFall</b> - Regenmenge: 1: kein Regen 2: Regen 3: starker Regenfall<br>\n",
    "<b>Evaporation</b> - Verdunstungsmenge: 1: keine Verdunstung 2: wenig Verdunstung 3: normale Verdunstung 4: hohe Verdunstung 5: sehr hohe Verdunstung <br>\n",
    "<b>Sunshine</b> - Sonnenstunden: 1: 0-2h 2: 2-4h 3:4-6h 4: 6-8h 5: >8h <br>\n",
    "<b>WindGustSpeed</b> - höchste Windgeschwindigkeit: 1: 0-15km/h 2: 15-30km/h 3: 30-45km/h 4: 45-60km/h 5: >=60km/h <br>\n",
    "<b>Humidity</b> Luftfeuchtigkeit - 1: 0-20% 2: 20-40% 3: 40-60% 4: 60-80% 5: 80-100% <br>\n",
    "<b>Pressure</b> durchschnittlicher Luftdruck: 1: <900hPa 2: 900- 920hPa 3: 920-940hPa 4: 940-960hPa 5: >= 960hPa <br>\n"
   ],
   "metadata": {
    "collapsed": false,
    "pycharm": {
     "name": "#%% md\n"
    }
   }
  },
  {
   "cell_type": "code",
   "execution_count": 6,
   "outputs": [],
   "source": [
    "#Ersetzen Sie MinTemp mit der Spalte, die tatsächlich vorhergesagt werden soll\n",
    "y = dataset['MinTemp'] #Auswahl der zu vorhersagenden Variable\n",
    "X = dataset.drop(columns='MinTemp') #Attribute: Alle Spalten außer die Spalte, die vorhergesagt werden soll, diese wird mit .drop gelöscht"
   ],
   "metadata": {
    "collapsed": false,
    "pycharm": {
     "name": "#%%\n"
    }
   }
  },
  {
   "cell_type": "code",
   "execution_count": 7,
   "outputs": [],
   "source": [
    "#Train/Test Split: Aufteilung der Daten in Trainings- und Testdaten\n",
    "X_train, X_test, y_train, y_test = train_test_split(X, y, test_size=0.9, random_state=5)"
   ],
   "metadata": {
    "collapsed": false,
    "pycharm": {
     "name": "#%%\n"
    }
   }
  },
  {
   "cell_type": "code",
   "execution_count": 8,
   "outputs": [
    {
     "data": {
      "text/plain": "CategoricalNB()"
     },
     "execution_count": 8,
     "metadata": {},
     "output_type": "execute_result"
    }
   ],
   "source": [
    "#Trainieren des Naive Bayes Klassifikationsmodells\n",
    "clf = CategoricalNB()\n",
    "clf.fit(X=X_test, y=y_test)"
   ],
   "metadata": {
    "collapsed": false,
    "pycharm": {
     "name": "#%%\n"
    }
   }
  },
  {
   "cell_type": "code",
   "execution_count": 9,
   "outputs": [
    {
     "name": "stdout",
     "output_type": "stream",
     "text": [
      "['No' 'Yes' 'Yes' 'Yes' 'Yes'] ['No' 'Yes' 'Yes' 'Yes' 'Yes']\n"
     ]
    }
   ],
   "source": [
    "#Vorhersage der Testdaten\n",
    "y_pred = clf.predict(X = X_test)\n",
    "print(np.array(y_test[:5]), y_pred[:5]) #Vergleich der ersten fünf Vorhersagen mit den tatsächlichen Werten"
   ],
   "metadata": {
    "collapsed": false,
    "pycharm": {
     "name": "#%%\n"
    }
   }
  },
  {
   "cell_type": "code",
   "execution_count": 12,
   "outputs": [],
   "source": [
    "#Berechnung der Kennzahlen zur Evaluation der Klassifikationsgüte\n",
    "acc = accuracy_score(y_true=y_test, y_pred=y_pred)\n",
    "rec_yes = recall_score(y_true=y_test, y_pred=y_pred, pos_label='Yes')\n",
    "prec_yes = precision_score(y_true=y_test, y_pred=y_pred, pos_label='Yes')\n",
    "f1_yes = f1_score(y_true=y_test, y_pred=y_pred, pos_label='Yes')\n",
    "#Hier Berechnung der Kennzahlen für die Klasse 'No' (Kein Regen) einfügen"
   ],
   "metadata": {
    "collapsed": false,
    "pycharm": {
     "name": "#%%\n"
    }
   }
  },
  {
   "cell_type": "code",
   "execution_count": 13,
   "outputs": [
    {
     "name": "stdout",
     "output_type": "stream",
     "text": [
      "Accuracy :  0.7318223028105167\n",
      "Recall der Klasse 'Yes' :  0.5977011494252874\n",
      "Precision der Klasse 'Yes' :  0.6395721925133689\n",
      "F_1 Score der Klasse 'Yes' :  0.6179281839318005\n",
      "Recall der Klasse 'No' :  0.8081957882754696\n",
      "Precision der Klasse 'No' :  0.7791495198902606\n",
      "F_1 Score der Klasse 'No' :  0.7934069004050844\n"
     ]
    }
   ],
   "source": [
    "#Ausgabe der Kennzahlen (ggf. die Namen der Kennzahlen in Zeile 74-76 anpassen, falls sie oben anders bennant wurden)\n",
    "print('Accuracy : ', acc)\n",
    "print('Recall der Klasse \\'Yes\\' : ', rec_yes)\n",
    "print('Precision der Klasse \\'Yes\\' : ', prec_yes)\n",
    "print('F_1 Score der Klasse \\'Yes\\' : ', f1_yes)\n",
    "print('Recall der Klasse \\'No\\' : ', rec_no)\n",
    "print('Precision der Klasse \\'No\\' : ', prec_no)\n",
    "print('F_1 Score der Klasse \\'No\\' : ', f1_no)"
   ],
   "metadata": {
    "collapsed": false,
    "pycharm": {
     "name": "#%%\n"
    }
   }
  }
 ],
 "metadata": {
  "kernelspec": {
   "display_name": "Python 3",
   "language": "python",
   "name": "python3"
  },
  "language_info": {
   "codemirror_mode": {
    "name": "ipython",
    "version": 2
   },
   "file_extension": ".py",
   "mimetype": "text/x-python",
   "name": "python",
   "nbconvert_exporter": "python",
   "pygments_lexer": "ipython2",
   "version": "2.7.6"
  }
 },
 "nbformat": 4,
 "nbformat_minor": 0
}